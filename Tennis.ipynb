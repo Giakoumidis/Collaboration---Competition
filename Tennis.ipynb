{
 "cells": [
  {
   "cell_type": "markdown",
   "metadata": {},
   "source": [
    "# Collaboration and Competition\n",
    "\n",
    "---\n",
    "\n",
    "In this notebook, you will learn how to use the Unity ML-Agents environment for the third project of the [Deep Reinforcement Learning Nanodegree](https://www.udacity.com/course/deep-reinforcement-learning-nanodegree--nd893) program.\n",
    "\n",
    "### 1. Start the Environment\n",
    "\n",
    "We begin by importing the necessary packages.  If the code cell below returns an error, please revisit the project instructions to double-check that you have installed [Unity ML-Agents](https://github.com/Unity-Technologies/ml-agents/blob/master/docs/Installation.md) and [NumPy](http://www.numpy.org/)."
   ]
  },
  {
   "cell_type": "code",
   "execution_count": 1,
   "metadata": {},
   "outputs": [],
   "source": [
    "from collections import deque\n",
    "import matplotlib.pyplot as plt\n",
    "import numpy as np\n",
    "import time\n",
    "import torch\n",
    "from unityagents import UnityEnvironment\n",
    "from maddpg_agent import Agent\n",
    "%matplotlib inline"
   ]
  },
  {
   "cell_type": "markdown",
   "metadata": {},
   "source": [
    "Next, we will start the environment!  **_Before running the code cell below_**, change the `file_name` parameter to match the location of the Unity environment that you downloaded.\n",
    "\n",
    "- **Mac**: `\"path/to/Tennis.app\"`\n",
    "- **Windows** (x86): `\"path/to/Tennis_Windows_x86/Tennis.exe\"`\n",
    "- **Windows** (x86_64): `\"path/to/Tennis_Windows_x86_64/Tennis.exe\"`\n",
    "- **Linux** (x86): `\"path/to/Tennis_Linux/Tennis.x86\"`\n",
    "- **Linux** (x86_64): `\"path/to/Tennis_Linux/Tennis.x86_64\"`\n",
    "- **Linux** (x86, headless): `\"path/to/Tennis_Linux_NoVis/Tennis.x86\"`\n",
    "- **Linux** (x86_64, headless): `\"path/to/Tennis_Linux_NoVis/Tennis.x86_64\"`\n",
    "\n",
    "For instance, if you are using a Mac, then you downloaded `Tennis.app`.  If this file is in the same folder as the notebook, then the line below should appear as follows:\n",
    "```\n",
    "env = UnityEnvironment(file_name=\"Tennis.app\")\n",
    "```"
   ]
  },
  {
   "cell_type": "code",
   "execution_count": 2,
   "metadata": {},
   "outputs": [
    {
     "name": "stderr",
     "output_type": "stream",
     "text": [
      "INFO:unityagents:\n",
      "'Academy' started successfully!\n",
      "Unity Academy name: Academy\n",
      "        Number of Brains: 1\n",
      "        Number of External Brains : 1\n",
      "        Lesson number : 0\n",
      "        Reset Parameters :\n",
      "\t\t\n",
      "Unity brain name: TennisBrain\n",
      "        Number of Visual Observations (per agent): 0\n",
      "        Vector Observation space type: continuous\n",
      "        Vector Observation space size (per agent): 8\n",
      "        Number of stacked Vector Observation: 3\n",
      "        Vector Action space type: continuous\n",
      "        Vector Action space size (per agent): 2\n",
      "        Vector Action descriptions: , \n"
     ]
    }
   ],
   "source": [
    "env = UnityEnvironment(file_name=\"Tennis_Linux/Tennis.x86_64\", no_graphics=True)"
   ]
  },
  {
   "cell_type": "markdown",
   "metadata": {},
   "source": [
    "Environments contain **_brains_** which are responsible for deciding the actions of their associated agents. Here we check for the first brain available, and set it as the default brain we will be controlling from Python."
   ]
  },
  {
   "cell_type": "code",
   "execution_count": 3,
   "metadata": {},
   "outputs": [],
   "source": [
    "# get the default brain\n",
    "brain_name = env.brain_names[0]\n",
    "brain = env.brains[brain_name]"
   ]
  },
  {
   "cell_type": "markdown",
   "metadata": {},
   "source": [
    "### 2. Examine the State and Action Spaces\n",
    "\n",
    "In this environment, two agents control rackets to bounce a ball over a net. If an agent hits the ball over the net, it receives a reward of +0.1.  If an agent lets a ball hit the ground or hits the ball out of bounds, it receives a reward of -0.01.  Thus, the goal of each agent is to keep the ball in play.\n",
    "\n",
    "The observation space consists of 8 variables corresponding to the position and velocity of the ball and racket. Two continuous actions are available, corresponding to movement toward (or away from) the net, and jumping. \n",
    "\n",
    "Run the code cell below to print some information about the environment."
   ]
  },
  {
   "cell_type": "code",
   "execution_count": 4,
   "metadata": {},
   "outputs": [
    {
     "name": "stdout",
     "output_type": "stream",
     "text": [
      "Number of agents: 2\n",
      "Size of each action: 2\n",
      "There are 2 agents. Each observes a state with length: 24\n",
      "The state for the first agent looks like: [ 0.          0.          0.          0.          0.          0.\n",
      "  0.          0.          0.          0.          0.          0.\n",
      "  0.          0.          0.          0.         -6.65278625 -1.5\n",
      " -0.          0.          6.83172083  6.         -0.          0.        ]\n"
     ]
    }
   ],
   "source": [
    "# reset the environment\n",
    "env_info = env.reset(train_mode=True)[brain_name]\n",
    "\n",
    "# number of agents \n",
    "num_agents = len(env_info.agents)\n",
    "print('Number of agents:', num_agents)\n",
    "\n",
    "# size of each action\n",
    "action_size = brain.vector_action_space_size\n",
    "print('Size of each action:', action_size)\n",
    "\n",
    "# examine the state space \n",
    "states = env_info.vector_observations\n",
    "state_size = states.shape[1]\n",
    "print('There are {} agents. Each observes a state with length: {}'.format(states.shape[0], state_size))\n",
    "print('The state for the first agent looks like:', states[0])"
   ]
  },
  {
   "cell_type": "markdown",
   "metadata": {},
   "source": [
    "### 3. Take Random Actions in the Environment\n",
    "\n",
    "In the next code cell, you will learn how to use the Python API to control the agents and receive feedback from the environment.\n",
    "\n",
    "Once this cell is executed, you will watch the agents' performance, if they select actions at random with each time step.  A window should pop up that allows you to observe the agents.\n",
    "\n",
    "Of course, as part of the project, you'll have to change the code so that the agents are able to use their experiences to gradually choose better actions when interacting with the environment!"
   ]
  },
  {
   "cell_type": "code",
   "execution_count": 5,
   "metadata": {},
   "outputs": [
    {
     "name": "stdout",
     "output_type": "stream",
     "text": [
      "Score (max over agents) from episode 1: 0.0\n",
      "Score (max over agents) from episode 2: 0.10000000149011612\n",
      "Score (max over agents) from episode 3: 0.0\n",
      "Score (max over agents) from episode 4: 0.0\n",
      "Score (max over agents) from episode 5: 0.0\n"
     ]
    }
   ],
   "source": [
    "for i in range(1, 6):                                      # play game for 5 episodes\n",
    "    env_info = env.reset(train_mode=False)[brain_name]     # reset the environment    \n",
    "    states = env_info.vector_observations                  # get the current state (for each agent)\n",
    "    scores = np.zeros(num_agents)                          # initialize the score (for each agent)\n",
    "    while True:\n",
    "        actions = np.random.randn(num_agents, action_size) # select an action (for each agent)\n",
    "        actions = np.clip(actions, -1, 1)                  # all actions between -1 and 1\n",
    "        env_info = env.step(actions)[brain_name]           # send all actions to tne environment\n",
    "        next_states = env_info.vector_observations         # get next state (for each agent)\n",
    "        rewards = env_info.rewards                         # get reward (for each agent)\n",
    "        dones = env_info.local_done                        # see if episode finished\n",
    "        scores += env_info.rewards                         # update the score (for each agent)\n",
    "        states = next_states                               # roll over states to next time step\n",
    "        if np.any(dones):                                  # exit loop if episode finished\n",
    "            break\n",
    "    print('Score (max over agents) from episode {}: {}'.format(i, np.max(scores)))"
   ]
  },
  {
   "cell_type": "markdown",
   "metadata": {},
   "source": [
    "### 4. It's Your Turn!\n",
    "\n",
    "Now it's your turn to train your own agent to solve the environment!  When training the environment, set `train_mode=True`, so that the line for resetting the environment looks like the following:\n",
    "```python\n",
    "env_info = env.reset(train_mode=True)[brain_name]\n",
    "```"
   ]
  },
  {
   "cell_type": "markdown",
   "metadata": {},
   "source": [
    "### 5. Initialize agents"
   ]
  },
  {
   "cell_type": "code",
   "execution_count": 6,
   "metadata": {},
   "outputs": [],
   "source": [
    "random_seed = 0\n",
    "train_mode = True\n",
    "P1_agent = Agent(state_size, action_size, num_agents=1, random_seed=0)\n",
    "P2_agent = Agent(state_size, action_size, num_agents=1, random_seed=0)"
   ]
  },
  {
   "cell_type": "markdown",
   "metadata": {},
   "source": [
    "### 6. MADDPG function"
   ]
  },
  {
   "cell_type": "code",
   "execution_count": 7,
   "metadata": {},
   "outputs": [],
   "source": [
    "def maddpg(n_episodes=2000, max_t=1000, print_every=100, goal_score=0.5, episodes=100):\n",
    "    scores_deque = deque(maxlen=100)\n",
    "    total_scores = []\n",
    "    average_score = []\n",
    "    max_score = -np.Inf\n",
    "    max_score_episode = 0\n",
    "    start_time = time.time()\n",
    "\n",
    "    for i_episode in range(1, n_episodes + 1):\n",
    "        # Reset environment\n",
    "        env_info = env.reset(train_mode=train_mode)[brain_name]\n",
    "        # Get current state for each agent and combine them\n",
    "        states = np.reshape(env_info.vector_observations, (1,48))\n",
    "        P1_agent.reset()\n",
    "        P2_agent.reset()\n",
    "        # Initialize the score (for each agent)\n",
    "        scores = np.zeros(num_agents)\n",
    "\n",
    "        for t in range(max_t):\n",
    "            # Select an action\n",
    "            action_P1 = P1_agent.act(states, add_noise=True)  # agent 0 chooses an action\n",
    "            action_P2 = P2_agent.act(states, add_noise=True)  # agent 1 chooses an action\n",
    "            actions = np.concatenate((action_P1, action_P2), axis=0).flatten()\n",
    "\n",
    "            # Send actions to environment\n",
    "            env_info = env.step(actions)[brain_name]\n",
    "\n",
    "            # Get next state and combine them\n",
    "            next_states = np.reshape(env_info.vector_observations, (1, 48))\n",
    "\n",
    "            # Get reward\n",
    "            rewards = env_info.rewards\n",
    "\n",
    "            # Check if episode has finished\n",
    "            done = env_info.local_done\n",
    "\n",
    "            # Send actions to the agents\n",
    "            P1_agent.step(states, actions, rewards[0], next_states, done, 0)  # agent 1 learns\n",
    "            P2_agent.step(states, actions, rewards[1], next_states, done, 1)  # agent 2 learns\n",
    "\n",
    "            # Pass states to next time step\n",
    "            states = next_states\n",
    "            \n",
    "            # Update the scores\n",
    "            scores += np.max(rewards)\n",
    "\n",
    "            # Exit loop if episode finished\n",
    "            if np.any(done):\n",
    "                break\n",
    "\n",
    "        episode_max_score = np.max(scores)\n",
    "        scores_deque.append(episode_max_score)\n",
    "        total_scores.append(episode_max_score)\n",
    "        average_score.append(np.mean(scores_deque))\n",
    "\n",
    "        # Save best score\n",
    "        if episode_max_score > max_score:\n",
    "            max_score = max_score_episode\n",
    "            max_score_episode = i_episode\n",
    "\n",
    "        # Print results\n",
    "        if i_episode % print_every == 0:\n",
    "            print('Episodes {:0>4d}-{:0>4d}\\t Highest Reward: {:.3f}\\t Lowest Reward: {:.3f}\\t Average Score: {:.3f}'.format(\n",
    "                i_episode-print_every, i_episode, np.max(total_scores[-print_every:]), np.min(total_scores[-print_every:]), average_score[-1]))\n",
    "\n",
    "\n",
    "        # Determine if environment is solved and keep best performing models\n",
    "        if average_score[-1] >= goal_score:\n",
    "            print('\\nEnvironment solved in {:d} episodes! \\\n",
    "                \\nAverage Score: {:.3f} over past {:d} episodes'.format(\n",
    "                    i_episode-episodes, average_score[-1], episodes))\n",
    "            print('Training time = {:.5f} sec'.format(time.time() - start_time))\n",
    "\n",
    "            # Save weights\n",
    "            torch.save(P1_agent.actor_local.state_dict(), 'checkpoint_actor_P1_agent.pth')\n",
    "            torch.save(P1_agent.critic_local.state_dict(), 'checkpoint_critic_P1_agent.pth')\n",
    "            torch.save(P2_agent.actor_local.state_dict(), 'checkpoint_actor_P2_agent.pth')\n",
    "            torch.save(P2_agent.critic_local.state_dict(), 'checkpoint_critic_P2_agent.pth')\n",
    "            break\n",
    "\n",
    "    return total_scores, average_score"
   ]
  },
  {
   "cell_type": "markdown",
   "metadata": {},
   "source": [
    "### 7. Start training"
   ]
  },
  {
   "cell_type": "code",
   "execution_count": 8,
   "metadata": {},
   "outputs": [
    {
     "name": "stdout",
     "output_type": "stream",
     "text": [
      "Episodes 0000-0100\t Highest Reward: 0.300\t Lowest Reward: 0.000\t Average Score: 0.010\n",
      "Episodes 0100-0200\t Highest Reward: 0.400\t Lowest Reward: 0.000\t Average Score: 0.029\n",
      "Episodes 0200-0300\t Highest Reward: 0.400\t Lowest Reward: 0.000\t Average Score: 0.048\n",
      "Episodes 0300-0400\t Highest Reward: 0.700\t Lowest Reward: 0.000\t Average Score: 0.147\n",
      "Episodes 0400-0500\t Highest Reward: 1.100\t Lowest Reward: 0.000\t Average Score: 0.197\n",
      "\n",
      "Environment solved in 464 episodes!                 \n",
      "Average Score: 0.524 over past 100 episodes\n",
      "Training time = 263.56140 sec\n"
     ]
    }
   ],
   "source": [
    "scores, avgs = maddpg()"
   ]
  },
  {
   "cell_type": "markdown",
   "metadata": {},
   "source": [
    "### 8. Plot results "
   ]
  },
  {
   "cell_type": "code",
   "execution_count": 9,
   "metadata": {},
   "outputs": [
    {
     "data": {
      "image/png": "[encoded data removed]",
      "text/plain": [
       "<Figure size 432x288 with 1 Axes>"
      ]
     },
     "metadata": {
      "needs_background": "light"
     },
     "output_type": "display_data"
    }
   ],
   "source": [
    "fig = plt.figure()\n",
    "ax = fig.add_subplot(1, 1, 1)\n",
    "plt.plot(np.arange(1, len(scores) + 1), scores)\n",
    "plt.plot(np.arange(len(scores)), avgs, c='r', label='Average Score avg')\n",
    "plt.ylabel('Score')\n",
    "plt.xlabel('Episode #')\n",
    "plt.show()"
   ]
  },
  {
   "cell_type": "markdown",
   "metadata": {},
   "source": [
    "### 9. Close environment "
   ]
  },
  {
   "cell_type": "code",
   "execution_count": 10,
   "metadata": {},
   "outputs": [],
   "source": [
    "env.close()"
   ]
  }
 ],
 "metadata": {
  "kernelspec": {
   "display_name": "DRL",
   "language": "python",
   "name": "drl"
  },
  "language_info": {
   "codemirror_mode": {
    "name": "ipython",
    "version": 3
   },
   "file_extension": ".py",
   "mimetype": "text/x-python",
   "name": "python",
   "nbconvert_exporter": "python",
   "pygments_lexer": "ipython3",
   "version": "3.6.8"
  }
 },
 "nbformat": 4,
 "nbformat_minor": 2
}
